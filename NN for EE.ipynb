{
 "cells": [
  {
   "cell_type": "code",
   "execution_count": null,
   "metadata": {},
   "outputs": [],
   "source": [
    "#0.96285"
   ]
  },
  {
   "cell_type": "code",
   "execution_count": 1,
   "metadata": {},
   "outputs": [
    {
     "name": "stderr",
     "output_type": "stream",
     "text": [
      "Using TensorFlow backend.\n"
     ]
    }
   ],
   "source": [
    "import keras as k\n",
    "from keras.models import Sequential\n",
    "from keras.layers import Dense, Activation, BatchNormalization\n",
    "from keras.callbacks import ReduceLROnPlateau\n",
    "import tensorflow as tf\n",
    "import numpy as np\n",
    "import pandas as pd\n",
    "import matplotlib.pyplot as plt\n",
    "%matplotlib inline\n",
    "from sklearn.model_selection import train_test_split\n",
    "\n",
    "np.random.seed(42)"
   ]
  },
  {
   "cell_type": "code",
   "execution_count": 2,
   "metadata": {},
   "outputs": [],
   "source": [
    "train = pd.read_csv(\"inputs/train.csv\")\n",
    "test = pd.read_csv(\"inputs/test.csv\")"
   ]
  },
  {
   "cell_type": "code",
   "execution_count": 3,
   "metadata": {},
   "outputs": [],
   "source": [
    "#Train set\n",
    "Y_train = train[\"label\"]\n",
    "Y_train = k.utils.to_categorical(Y_train, num_classes = 10)\n",
    "X_train = train.drop(labels = [\"label\"], axis = 1)\n",
    "X_train = X_train / 255.0\n",
    "\n",
    "#Test set\n",
    "test = test / 255.0\n",
    "\n",
    "#Validation set\n",
    "X_train, X_val, Y_train, Y_val = train_test_split(X_train, Y_train, test_size = .1, random_state = 10)"
   ]
  },
  {
   "cell_type": "code",
   "execution_count": 26,
   "metadata": {},
   "outputs": [
    {
     "data": {
      "image/png": "[encoded data removed]",
      "text/plain": [
       "<Figure size 432x288 with 1 Axes>"
      ]
     },
     "metadata": {
      "needs_background": "light"
     },
     "output_type": "display_data"
    }
   ],
   "source": [
    "def toImg(arr):\n",
    "    return arr.values.reshape(-1, 28, 28, 1)\n",
    "\n",
    "#Imgs\n",
    "g = toImg(X_train)\n",
    "g_plt = plt.imshow(g[0][:, :, 0])"
   ]
  },
  {
   "cell_type": "code",
   "execution_count": 7,
   "metadata": {},
   "outputs": [
    {
     "name": "stdout",
     "output_type": "stream",
     "text": [
      "Epoch 1/15\n",
      "37800/37800 [==============================] - 202s 5ms/step - loss: 1.6401 - acc: 0.4333\n",
      "Epoch 2/15\n",
      "37800/37800 [==============================] - 191s 5ms/step - loss: 0.6684 - acc: 0.8085\n",
      "Epoch 3/15\n",
      "37800/37800 [==============================] - 191s 5ms/step - loss: 0.4725 - acc: 0.8864\n",
      "Epoch 4/15\n",
      "37800/37800 [==============================] - 191s 5ms/step - loss: 0.4085 - acc: 0.9045\n",
      "Epoch 5/15\n",
      "37800/37800 [==============================] - 191s 5ms/step - loss: 0.3699 - acc: 0.9140\n",
      "Epoch 6/15\n",
      "37800/37800 [==============================] - 191s 5ms/step - loss: 0.3467 - acc: 0.9211\n",
      "Epoch 7/15\n",
      "37800/37800 [==============================] - 191s 5ms/step - loss: 0.3246 - acc: 0.9256\n",
      "Epoch 8/15\n",
      "37800/37800 [==============================] - 191s 5ms/step - loss: 0.3282 - acc: 0.9273\n",
      "Epoch 9/15\n",
      "37800/37800 [==============================] - 191s 5ms/step - loss: 0.3274 - acc: 0.9275\n",
      "Epoch 10/15\n",
      "37800/37800 [==============================] - 191s 5ms/step - loss: 0.2966 - acc: 0.9343\n",
      "Epoch 11/15\n",
      "37800/37800 [==============================] - 192s 5ms/step - loss: 0.2978 - acc: 0.9352\n",
      "Epoch 12/15\n",
      "37800/37800 [==============================] - 191s 5ms/step - loss: 0.3018 - acc: 0.9350\n",
      "Epoch 13/15\n",
      "37800/37800 [==============================] - 191s 5ms/step - loss: 0.2927 - acc: 0.9367\n",
      "Epoch 14/15\n",
      "37800/37800 [==============================] - 191s 5ms/step - loss: 0.2844 - acc: 0.9384\n",
      "Epoch 15/15\n",
      "37800/37800 [==============================] - 191s 5ms/step - loss: 0.2701 - acc: 0.9416\n"
     ]
    },
    {
     "data": {
      "text/plain": [
       "<keras.callbacks.History at 0x1d17a7659e8>"
      ]
     },
     "execution_count": 7,
     "metadata": {},
     "output_type": "execute_result"
    }
   ],
   "source": [
    "model = Sequential()\n",
    "#Architecture\n",
    "model.add(Dense(4096, activation = 'relu', input_dim = 784))\n",
    "model.add(BatchNormalization())\n",
    "model.add(k.layers.Dropout(.50))\n",
    "\n",
    "model.add(Dense(2048, activation = 'relu'))\n",
    "model.add(BatchNormalization())\n",
    "model.add(k.layers.Dropout(.50))\n",
    "\n",
    "model.add(Dense(2048, activation = 'relu'))\n",
    "model.add(BatchNormalization())\n",
    "model.add(k.layers.Dropout(.50))\n",
    "\n",
    "model.add(Dense(2048, activation = 'relu'))\n",
    "model.add(BatchNormalization())\n",
    "model.add(k.layers.Dropout(.50))\n",
    "\n",
    "model.add(Dense(2048, activation = 'relu'))\n",
    "model.add(BatchNormalization())\n",
    "model.add(k.layers.Dropout(.50))\n",
    "\n",
    "model.add(Dense(1024, activation = 'relu'))\n",
    "model.add(BatchNormalization())\n",
    "model.add(k.layers.Dropout(.25))\n",
    "\n",
    "model.add(Dense(1024, activation = 'relu'))\n",
    "model.add(BatchNormalization())\n",
    "model.add(k.layers.Dropout(.25))\n",
    "\n",
    "model.add(Dense(1024, activation = 'relu'))\n",
    "model.add(BatchNormalization())\n",
    "model.add(k.layers.Dropout(.25))\n",
    "\n",
    "model.add(Dense(1024, activation = 'relu'))\n",
    "model.add(BatchNormalization())\n",
    "model.add(k.layers.Dropout(.25))\n",
    "\n",
    "model.add(Dense(512, activation = 'relu'))\n",
    "model.add(BatchNormalization())\n",
    "model.add(k.layers.Dropout(.25))\n",
    "\n",
    "model.add(Dense(512, activation = 'relu'))\n",
    "model.add(BatchNormalization())\n",
    "model.add(k.layers.Dropout(.25))\n",
    "\n",
    "model.add(Dense(256, activation = 'relu'))\n",
    "model.add(BatchNormalization())\n",
    "model.add(k.layers.Dropout(.25))\n",
    "\n",
    "model.add(Dense(128, activation = 'relu'))\n",
    "model.add(BatchNormalization())\n",
    "model.add(k.layers.Dropout(.25))\n",
    "\n",
    "model.add(Dense(128, activation = 'relu'))\n",
    "model.add(BatchNormalization())\n",
    "model.add(k.layers.Dropout(.25))\n",
    "\n",
    "model.add(Dense(64, activation = 'relu'))\n",
    "model.add(BatchNormalization())\n",
    "model.add(k.layers.Dropout(.25))\n",
    "\n",
    "model.add(Dense(64, activation = 'relu'))\n",
    "model.add(BatchNormalization())\n",
    "model.add(k.layers.Dropout(.25))\n",
    "\n",
    "model.add(Dense(32, activation = 'relu'))\n",
    "model.add(BatchNormalization())\n",
    "model.add(k.layers.Dropout(.25))\n",
    "\n",
    "model.add(Dense(10, activation = 'softmax'))\n",
    "\n",
    "#Compilation\n",
    "adam = k.optimizers.Adam()\n",
    "model.compile(optimizer = adam, loss='categorical_crossentropy', metrics=['accuracy'])\n",
    "\n",
    "#Training\n",
    "learning_rate_reduction = ReduceLROnPlateau(monitor='acc', patience=2, verbose=1, factor=0.5, min_lr=0.00001)\n",
    "model.fit(X_train, Y_train, epochs=15, batch_size=64, callbacks = [learning_rate_reduction])"
   ]
  },
  {
   "cell_type": "code",
   "execution_count": null,
   "metadata": {},
   "outputs": [],
   "source": [
    "model.evaluate(X_val, Y_val, verbose = 1)"
   ]
  },
  {
   "cell_type": "code",
   "execution_count": 8,
   "metadata": {},
   "outputs": [],
   "source": [
    "# predict results\n",
    "results = model.predict(test)\n",
    "\n",
    "# select the indix with the maximum probability\n",
    "results = np.argmax(results,axis = 1)\n",
    "\n",
    "results = pd.Series(results,name=\"Label\")\n",
    "\n",
    "submission = pd.concat([pd.Series(range(1,28001),name = \"ImageId\"),results],axis = 1)\n",
    "\n",
    "submission.to_csv(\"nn_mnist_datagen.csv\",index=False)"
   ]
  },
  {
   "cell_type": "code",
   "execution_count": 27,
   "metadata": {},
   "outputs": [
    {
     "name": "stdout",
     "output_type": "stream",
     "text": [
      "Saved model to disk\n"
     ]
    }
   ],
   "source": [
    "#Save Model\n",
    "# serialize model to JSON\n",
    "model_json = model.to_json()\n",
    "with open(\"nnmodel.json\", \"w\") as json_file:\n",
    "    json_file.write(model_json)\n",
    "# serialize weights to HDF5\n",
    "model.save_weights(\"nnmodel.h5\")\n",
    "print(\"Saved model to disk\")"
   ]
  },
  {
   "cell_type": "code",
   "execution_count": null,
   "metadata": {},
   "outputs": [],
   "source": []
  }
 ],
 "metadata": {
  "kernelspec": {
   "display_name": "Python 3",
   "language": "python",
   "name": "python3"
  },
  "language_info": {
   "codemirror_mode": {
    "name": "ipython",
    "version": 3
   },
   "file_extension": ".py",
   "mimetype": "text/x-python",
   "name": "python",
   "nbconvert_exporter": "python",
   "pygments_lexer": "ipython3",
   "version": "3.7.3"
  }
 },
 "nbformat": 4,
 "nbformat_minor": 2
}
